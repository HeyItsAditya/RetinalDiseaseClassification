{
  "nbformat": 4,
  "nbformat_minor": 0,
  "metadata": {
    "colab": {
      "provenance": [],
      "gpuType": "T4"
    },
    "kernelspec": {
      "name": "python3",
      "display_name": "Python 3"
    },
    "language_info": {
      "name": "python"
    },
    "accelerator": "GPU"
  },
  "cells": [
    {
      "cell_type": "code",
      "execution_count": null,
      "metadata": {
        "id": "FF2YFVqiNnfR"
      },
      "outputs": [],
      "source": [
        "!python -m pip install -qq kaggle"
      ]
    },
    {
      "cell_type": "code",
      "source": [
        "%%bash\n",
        "mkdir ~/.kaggle\n",
        "cp kaggle.json ~/.kaggle/\n",
        "chmod 600 ~/.kaggle/kaggle.json\n",
        "kaggle datasets download andrewmvd/retinal-disease-classification\n",
        "unzip -qq /content/retinal-disease-classification.zip\n",
        "mv \"Training_Set/Training_Set/Training\" \"Training\"\n",
        "mv \"Training\" \"train\"\n",
        "mv \"Training_Set/Training_Set/RFMiD_Training_Labels.csv\" \"RFMiD_Training_Labels.csv\"\n",
        "mv \"RFMiD_Training_Labels.csv\" \"rfmid_training_labels.csv\"\n",
        "mv \"Evaluation_Set/Evaluation_Set/Validation\" \"Validation\"\n",
        "mv \"Validation\" \"valid\"\n",
        "mv \"Evaluation_Set/Evaluation_Set/RFMiD_Validation_Labels.csv\" \"RFMiD_Validation_Labels.csv\"\n",
        "mv \"RFMiD_Validation_Labels.csv\" \"rfmid_validation_labels.csv\"\n",
        "mv \"Test_Set/Test_Set/Test\" \"Test\"\n",
        "mv \"Test\" \"test\"\n",
        "mv \"Test_Set/Test_Set/RFMiD_Testing_Labels.csv\" \"RFMiD_Testing_Labels.csv\"\n",
        "mv \"RFMiD_Testing_Labels.csv\" \"rfmid_testing_labels.csv\"\n",
        "rm -rf \"Evaluation_Set\" \"Test_Set\" \"Training_Set\""
      ],
      "metadata": {
        "id": "QOxkLWRwOPS_"
      },
      "execution_count": null,
      "outputs": []
    },
    {
      "cell_type": "code",
      "source": [
        "import os                        # Module for interacting with the operating system\n",
        "import string                    # Module with utility functions for working with strings\n",
        "import numpy as np               # Numerical computing library\n",
        "import pandas as pd              # Library for data manipulation and analysis\n",
        "import seaborn as sns            # Data visualization library built on top of matplotlib\n",
        "import tensorflow as tf         # Deep learning framework\n",
        "from matplotlib import pyplot as plt  # Plotting library\n",
        "from PIL import Image            # Library for working with images\n",
        "import re                        # Module for working with regular expressions"
      ],
      "metadata": {
        "id": "7z3AG7E9OS4O"
      },
      "execution_count": null,
      "outputs": []
    },
    {
      "cell_type": "code",
      "source": [
        "# read all csv files\n",
        "train_metadata=pd.read_csv('rfmid_training_labels.csv')                         # read training data csv (metadata)\n",
        "valid_metadata=pd.read_csv('rfmid_validation_labels.csv')                       # read training data csv (metadata)\n",
        "test_metadata=pd.read_csv('rfmid_testing_labels.csv')                           # read training data csv (metadata)\n",
        "# add columns for type of data dataframe\n",
        "train_metadata['setType']='train'\n",
        "valid_metadata['setType']='valid'\n",
        "test_metadata['setType']='test'\n",
        "# merage all to one dataset\n",
        "metadata=pd.concat([train_metadata,valid_metadata,test_metadata],ignore_index=True)# concatinate all\n",
        "metadata.head()                                                                 # metadata head"
      ],
      "metadata": {
        "id": "AzNJwSJTOS6E"
      },
      "execution_count": null,
      "outputs": []
    },
    {
      "cell_type": "code",
      "source": [
        "# get all images addresses\n",
        "images_addresses=dict(train=list(),valid=list(),test=list())                    # make dictionary for dataset\n",
        "for key,value in images_addresses.items():                                      # get key and value\n",
        "  for imageType in ['jpg','jpeg','png','bmp','gif']:                            # search for each image type\n",
        "    images_addresses[key].extend(glob(key+r'/*'+imageType))                     # add each type image address\n",
        "  print(f'Total images found in {key} is {len(images_addresses[key])}')         # print total images count"
      ],
      "metadata": {
        "id": "zXd3vdi_OS9t"
      },
      "execution_count": null,
      "outputs": []
    },
    {
      "cell_type": "code",
      "source": [],
      "metadata": {
        "id": "_U0FUgIKOS_s"
      },
      "execution_count": null,
      "outputs": []
    },
    {
      "cell_type": "code",
      "source": [
        "#make plot data\n",
        "for images,labels in train.take(1):break\n",
        "images_to_plot:int=9\n",
        "plt.figure(figsize=(15,15))\n",
        "for index in range(9):\n",
        "  plt.subplot(3,3,index+1)\n",
        "  plt.imshow(images[index].numpy().astype('uint8'))\n",
        "  plt.axis('off')\n",
        "  plt.title(training_classes[labels[index].numpy()])\n",
        "plt.tight_layout()\n",
        "plt.show()"
      ],
      "metadata": {
        "id": "IU6bxsjCOTBd"
      },
      "execution_count": null,
      "outputs": []
    },
    {
      "cell_type": "code",
      "source": [
        "# laod base model - MobileNetV2\n",
        "base_model=tf.keras.applications.MobileNetV2(include_top=False,weights=\"imagenet\",input_shape=(160,160,3))\n",
        "#base_model.summary(line_length=120,positions=None,print_fn=None,expand_nested=True,show_trainable=False,layer_range=None)# print base model summary\n",
        "base_model.trainable=False                                                      # make freeze base"
      ],
      "metadata": {
        "id": "5Whs_n8rOTDn"
      },
      "execution_count": null,
      "outputs": []
    },
    {
      "cell_type": "code",
      "source": [
        "inputs=tf.keras.layers.Input(shape=(160,160,3),batch_size=None,name='model_inputs')# add input layer\n",
        "model_x=tf.keras.layers.Rescaling(1/255,offset=1.0,name='rescaler')(inputs)     # rescale inputs\n",
        "model_x=base_model(model_x)                                                     # feed inputs to base model\n",
        "model_x=tf.keras.layers.Flatten(name='flatten')(model_x)                         # make flatten outputs\n",
        "model_x=tf.keras.layers.Dense(1024,activation='relu')(model_x)                  # apply dense layer\n",
        "outputs=tf.keras.layers.Dense(len(training_classes),activation='softmax')(model_x)# output layer\n",
        "model=tf.keras.Model(inputs=[inputs],outputs=[outputs],name='Xception')         # build model\n",
        "model.summary(line_length=120,positions=None,print_fn=None,expand_nested=True,show_trainable=True,layer_range=None)# print model summary"
      ],
      "metadata": {
        "id": "ebWoSX1mOTHe"
      },
      "execution_count": null,
      "outputs": []
    },
    {
      "cell_type": "code",
      "source": [
        "# make compile model\n",
        "model.compile(optimizer=tf.keras.optimizers.Adam(learning_rate=0.001),\n",
        "              loss=tf.keras.losses.SparseCategoricalCrossentropy(),\n",
        "              metrics=tf.keras.metrics.SparseCategoricalAccuracy())"
      ],
      "metadata": {
        "id": "6QnJA01sOTJQ"
      },
      "execution_count": null,
      "outputs": []
    },
    {
      "cell_type": "code",
      "source": [
        "# make early stopping\n",
        "early_stop=tf.keras.callbacks.EarlyStopping(monitor='val_sparse_categorical_accuracy',min_delta=0,patience=10,verbose=1,mode='auto',restore_best_weights=True)\n",
        "\n",
        "# make train model\n",
        "history=model.fit(train,batch_size=None,epochs=10_000,verbose=2,callbacks=[early_stop],\n",
        "                  validation_split=0,validation_data=valid,shuffle=True)"
      ],
      "metadata": {
        "id": "MQ6Shk5wOTMq"
      },
      "execution_count": null,
      "outputs": []
    },
    {
      "cell_type": "code",
      "source": [
        "# see model history (first five epoches)\n",
        "pd.DataFrame(history.history).head()"
      ],
      "metadata": {
        "id": "9YPXwrrUP5sI"
      },
      "execution_count": null,
      "outputs": []
    },
    {
      "cell_type": "code",
      "source": [
        "# see model history (last five epoches)\n",
        "pd.DataFrame(history.history).tail()"
      ],
      "metadata": {
        "id": "5mxDmJmvP5vr"
      },
      "execution_count": null,
      "outputs": []
    },
    {
      "cell_type": "code",
      "source": [
        "# make plot training accuracy and validation accuracy\n",
        "pd.DataFrame(history.history)[['sparse_categorical_accuracy','val_sparse_categorical_accuracy']].plot(marker='.')# make plot\n",
        "plt.grid(),plt.title('Training Accuracy'),plt.xlabel('epochs'),plt.ylabel('accuracy')# add grid, title and axis labels\n",
        "plt.show()"
      ],
      "metadata": {
        "id": "IlaCL85MP6XN"
      },
      "execution_count": null,
      "outputs": []
    },
    {
      "cell_type": "code",
      "source": [
        "# make plot training losses and validation losses\n",
        "pd.DataFrame(history.history)[['loss','val_loss']].plot(marker='.')             # make plot\n",
        "plt.grid(),plt.title('Training Losses'),plt.xlabel('epochs'),plt.ylabel('loss') # add grid, title and axis labels\n",
        "plt.show()                                                                      # make plot show"
      ],
      "metadata": {
        "id": "dD2gDZZwQEHR"
      },
      "execution_count": null,
      "outputs": []
    },
    {
      "cell_type": "code",
      "source": [
        "# evaluate model\n",
        "results=model.evaluate(test,batch_size=None,verbose=\"auto\",sample_weight=None,return_dict=True)\n",
        "print('Testing results:',results)"
      ],
      "metadata": {
        "id": "K7coL8pRQEKq"
      },
      "execution_count": null,
      "outputs": []
    },
    {
      "cell_type": "code",
      "source": [
        "# make save model (weights and configuration)\n",
        "model.save('traffic_sign_classifier',overwrite=True,save_format=None)           # make save"
      ],
      "metadata": {
        "id": "KhtkJPY3QE2C"
      },
      "execution_count": null,
      "outputs": []
    },
    {
      "cell_type": "code",
      "source": [
        "!zip -r -qq \"traffic_sign_classifier.zip\" \"traffic_sign_classifier\"             # make zip model\n",
        "# make auto download model weights\n",
        "from google.colab import files                                                  # load file class\n",
        "files.download('traffic_sign_classifier.zip')                                   # download model zip file"
      ],
      "metadata": {
        "id": "U7GSXQ3XP6ar"
      },
      "execution_count": null,
      "outputs": []
    }
  ]
}